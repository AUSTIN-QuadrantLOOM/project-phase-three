{
 "cells": [
  {
   "cell_type": "markdown",
   "id": "1bc87330",
   "metadata": {},
   "source": [
    "# Phase 3 Project - The Economic Impact of Corruption Using WGI\n",
    "\n",
    "## 📌 Project Overview\n",
    "This project explores the relationship between **corruption and economic stability** using the **Worldwide Governance Indicators (WGI)** dataset. \n",
    "We aim to:\n",
    "- Analyze the impact of governance metrics (e.g., corruption control, rule of law) on **GDP growth and investment trends**.\n",
    "- Build **classification models** to predict economic risk based on governance scores."
   ]
  },
  {
   "cell_type": "markdown",
   "id": "e983a84e",
   "metadata": {},
   "source": [
    "## 📊 Business Problem\n",
    "\n",
    "Corruption is a major driver of economic instability, affecting **foreign direct investment (FDI), growth rates, and financial resilience**. \n",
    "This project provides insights for **governments, investors, financial institutions, and anti-corruption watchdogs** to assess economic risks.\n",
    "\n",
    "### 🎯 Key Stakeholders:\n",
    "- **Governments & Policy Makers** → Formulate **anti-corruption reforms** for economic resilience.\n",
    "- **Investors & Multinational Corporations** → Assess risk levels before entering new markets.\n",
    "- **International Financial Institutions** (World Bank, IMF) → Use governance scores to determine loan eligibility.\n",
    "- **Civil Society Organizations** → Advocate for transparency & accountability in governance."
   ]
  },
  {
   "cell_type": "markdown",
   "id": "d4d7a420",
   "metadata": {},
   "source": [
    "## 🔬 ML Objectives  \n",
    "\n",
    "### **Analysis Objectives:**\n",
    "1. **Assess the Impact of Corruption on Economic Growth**\n",
    "   - Examine how fluctuations in **Control of Corruption** affect **GDP growth**.\n",
    "   - Compare trends in **developing vs. advanced economies**.\n",
    "\n",
    "2. **Analyze the Relationship Between Regulatory Quality & Investment Flows**\n",
    "   - Investigate whether **strong governance frameworks** attract higher FDI.\n",
    "   - Explore how economic mismanagement affects investor confidence.\n",
    "\n",
    "### **Modeling Objectives:**\n",
    "1. **Predict a Country’s Economic Performance Based on Governance Indicators**\n",
    "   - Build a **regression model** to forecast GDP growth using WGI metrics.\n",
    "   - Use **Ridge Regression** for better predictive accuracy.\n",
    "\n",
    "2. **Classify Countries Into High or Low Investment-Attractiveness Groups**\n",
    "   - Develop a **classification model** to determine investment risk based on corruption trends.\n",
    "   - Apply **Logistic Regression or Decision Trees** for clear stakeholder interpretation."
   ]
  },
  {
   "cell_type": "code",
   "execution_count": null,
   "id": "616b3a02",
   "metadata": {},
   "outputs": [],
   "source": []
  }
 ],
 "metadata": {
  "language_info": {
   "name": "python"
  }
 },
 "nbformat": 4,
 "nbformat_minor": 5
}
