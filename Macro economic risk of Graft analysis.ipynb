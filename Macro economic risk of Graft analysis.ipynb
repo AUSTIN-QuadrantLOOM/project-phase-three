{
 "cells": [
  {
   "cell_type": "markdown",
   "id": "1bc87330",
   "metadata": {},
   "source": [
    "# Phase 3 Project - The Economic Impact of Corruption Using WGI\n",
    "\n",
    "## 📌 Project Overview\n",
    "This project explores the relationship between **corruption and economic stability** using the **Worldwide Governance Indicators (WGI)** dataset. \n",
    "We aim to:\n",
    "- Analyze the impact of governance metrics (e.g., corruption control, rule of law) on **GDP growth and investment trends**.\n",
    "- Build **classification models** to predict economic risk based on governance scores."
   ]
  },
  {
   "cell_type": "markdown",
   "id": "e983a84e",
   "metadata": {},
   "source": [
    "## 📊 Business Problem\n",
    "\n",
    "Corruption is a major driver of economic instability, affecting **foreign direct investment (FDI), growth rates, and financial resilience**. \n",
    "This project provides insights for **governments, investors, financial institutions, and anti-corruption watchdogs** to assess economic risks.\n",
    "\n",
    "### 🎯 Key Stakeholders:\n",
    "- **Governments & Policy Makers** → Formulate **anti-corruption reforms** for economic resilience.\n",
    "- **Investors & Multinational Corporations** → Assess risk levels before entering new markets.\n",
    "- **International Financial Institutions** (World Bank, IMF) → Use governance scores to determine loan eligibility.\n",
    "- **Civil Society Organizations** → Advocate for transparency & accountability in governance."
   ]
  },
  {
   "cell_type": "markdown",
   "id": "d4d7a420",
   "metadata": {},
   "source": [
    "## 🔬 ML Objectives  \n",
    "\n",
    "### **Analysis Objectives:**\n",
    "1. **Assess the Impact of Corruption on Economic Growth**\n",
    "   - Examine how fluctuations in **Control of Corruption** affect **GDP growth**.\n",
    "   - Compare trends in **developing vs. advanced economies**.\n",
    "\n",
    "2. **Analyze the Relationship Between Regulatory Quality & Investment Flows**\n",
    "   - Investigate whether **strong governance frameworks** attract higher FDI.\n",
    "   - Explore how economic mismanagement affects investor confidence.\n",
    "\n",
    "### **Modeling Objectives:**\n",
    "1. **Predict a Country’s Economic Performance Based on Governance Indicators**\n",
    "   - Build a **regression model** to forecast GDP growth using WGI metrics.\n",
    "\n",
    "\n",
    "2. **Classify Countries Into High or Low Investment-Attractiveness Groups**\n",
    "   - Develop a **classification model** to determine investment risk based on corruption trends.\n",
    "   - Apply **Logistic Regression or Decision Trees** for clear stakeholder interpretation."
   ]
  },
  {
   "cell_type": "markdown",
   "id": "04c655cf",
   "metadata": {},
   "source": [
    "# EXPLORATORY DATA ANALYSIS (EDA)\n",
    "### Loading and Inspecting the Worldwide Governanace Indicators dataset"
   ]
  },
  {
   "cell_type": "code",
   "execution_count": 70,
   "id": "616b3a02",
   "metadata": {},
   "outputs": [
    {
     "name": "stdout",
     "output_type": "stream",
     "text": [
      "       STRUCTURE                STRUCTURE_ID ACTION FREQ FREQ_LABEL REF_AREA  \\\n",
      "0  datastructure  WB.DATA360:DS_DATA360(1.2)      I    A     Annual      ABW   \n",
      "1  datastructure  WB.DATA360:DS_DATA360(1.2)      I    A     Annual      AFG   \n",
      "2  datastructure  WB.DATA360:DS_DATA360(1.2)      I    A     Annual      AGO   \n",
      "3  datastructure  WB.DATA360:DS_DATA360(1.2)      I    A     Annual      AIA   \n",
      "4  datastructure  WB.DATA360:DS_DATA360(1.2)      I    A     Annual      ALB   \n",
      "\n",
      "  REF_AREA_LABEL      INDICATOR                  INDICATOR_LABEL SEX  ...  \\\n",
      "0          Aruba  WB_WGI_CC_EST  Control of Corruption: Estimate  _T  ...   \n",
      "1    Afghanistan  WB_WGI_CC_EST  Control of Corruption: Estimate  _T  ...   \n",
      "2         Angola  WB_WGI_CC_EST  Control of Corruption: Estimate  _T  ...   \n",
      "3       Anguilla  WB_WGI_CC_EST  Control of Corruption: Estimate  _T  ...   \n",
      "4        Albania  WB_WGI_CC_EST  Control of Corruption: Estimate  _T  ...   \n",
      "\n",
      "  DATABASE_ID                      DATABASE_ID_LABEL UNIT_MULT  \\\n",
      "0      WB_WGI  Worldwide Governance Indicators (WGI)         0   \n",
      "1      WB_WGI  Worldwide Governance Indicators (WGI)         0   \n",
      "2      WB_WGI  Worldwide Governance Indicators (WGI)         0   \n",
      "3      WB_WGI  Worldwide Governance Indicators (WGI)         0   \n",
      "4      WB_WGI  Worldwide Governance Indicators (WGI)         0   \n",
      "\n",
      "  UNIT_MULT_LABEL UNIT_TYPE       UNIT_TYPE_LABEL OBS_STATUS OBS_STATUS_LABEL  \\\n",
      "0           Units    NUMBER  Number (real number)          O    Missing value   \n",
      "1           Units    NUMBER  Number (real number)          A     Normal value   \n",
      "2           Units    NUMBER  Number (real number)          A     Normal value   \n",
      "3           Units    NUMBER  Number (real number)          O    Missing value   \n",
      "4           Units    NUMBER  Number (real number)          A     Normal value   \n",
      "\n",
      "  OBS_CONF OBS_CONF_LABEL  \n",
      "0       PU         Public  \n",
      "1       PU         Public  \n",
      "2       PU         Public  \n",
      "3       PU         Public  \n",
      "4       PU         Public  \n",
      "\n",
      "[5 rows x 35 columns]\n",
      "<class 'pandas.core.frame.DataFrame'>\n",
      "RangeIndex: 192600 entries, 0 to 192599\n",
      "Data columns (total 35 columns):\n",
      " #   Column                  Non-Null Count   Dtype  \n",
      "---  ------                  --------------   -----  \n",
      " 0   STRUCTURE               192600 non-null  object \n",
      " 1   STRUCTURE_ID            192600 non-null  object \n",
      " 2   ACTION                  192600 non-null  object \n",
      " 3   FREQ                    192600 non-null  object \n",
      " 4   FREQ_LABEL              192600 non-null  object \n",
      " 5   REF_AREA                192600 non-null  object \n",
      " 6   REF_AREA_LABEL          192600 non-null  object \n",
      " 7   INDICATOR               192600 non-null  object \n",
      " 8   INDICATOR_LABEL         192600 non-null  object \n",
      " 9   SEX                     192600 non-null  object \n",
      " 10  SEX_LABEL               192600 non-null  object \n",
      " 11  AGE                     192600 non-null  object \n",
      " 12  AGE_LABEL               192600 non-null  object \n",
      " 13  URBANISATION            192600 non-null  object \n",
      " 14  URBANISATION_LABEL      192600 non-null  object \n",
      " 15  UNIT_MEASURE            192600 non-null  object \n",
      " 16  UNIT_MEASURE_LABEL      192600 non-null  object \n",
      " 17  COMP_BREAKDOWN_1        192600 non-null  object \n",
      " 18  COMP_BREAKDOWN_1_LABEL  192600 non-null  object \n",
      " 19  COMP_BREAKDOWN_2        192600 non-null  object \n",
      " 20  COMP_BREAKDOWN_2_LABEL  192600 non-null  object \n",
      " 21  COMP_BREAKDOWN_3        192600 non-null  object \n",
      " 22  COMP_BREAKDOWN_3_LABEL  192600 non-null  object \n",
      " 23  TIME_PERIOD             192600 non-null  int64  \n",
      " 24  OBS_VALUE               185844 non-null  float64\n",
      " 25  DATABASE_ID             192600 non-null  object \n",
      " 26  DATABASE_ID_LABEL       192600 non-null  object \n",
      " 27  UNIT_MULT               192600 non-null  int64  \n",
      " 28  UNIT_MULT_LABEL         192600 non-null  object \n",
      " 29  UNIT_TYPE               192600 non-null  object \n",
      " 30  UNIT_TYPE_LABEL         192600 non-null  object \n",
      " 31  OBS_STATUS              192600 non-null  object \n",
      " 32  OBS_STATUS_LABEL        192600 non-null  object \n",
      " 33  OBS_CONF                192600 non-null  object \n",
      " 34  OBS_CONF_LABEL          192600 non-null  object \n",
      "dtypes: float64(1), int64(2), object(32)\n",
      "memory usage: 51.4+ MB\n",
      "None\n"
     ]
    }
   ],
   "source": [
    "import pandas as pd\n",
    "#Load WGI Dataset csv to a dataframe\n",
    "df=pd.read_csv('WB_WGI.csv')\n",
    "print (df.head())\n",
    "print (df.info())"
   ]
  },
  {
   "cell_type": "markdown",
   "id": "6ca4eaec",
   "metadata": {},
   "source": [
    "#### view the columns in the world bank dataset of WGI "
   ]
  },
  {
   "cell_type": "code",
   "execution_count": 71,
   "id": "5d757c4e",
   "metadata": {},
   "outputs": [
    {
     "name": "stdout",
     "output_type": "stream",
     "text": [
      "Index(['STRUCTURE', 'STRUCTURE_ID', 'ACTION', 'FREQ', 'FREQ_LABEL', 'REF_AREA',\n",
      "       'REF_AREA_LABEL', 'INDICATOR', 'INDICATOR_LABEL', 'SEX', 'SEX_LABEL',\n",
      "       'AGE', 'AGE_LABEL', 'URBANISATION', 'URBANISATION_LABEL',\n",
      "       'UNIT_MEASURE', 'UNIT_MEASURE_LABEL', 'COMP_BREAKDOWN_1',\n",
      "       'COMP_BREAKDOWN_1_LABEL', 'COMP_BREAKDOWN_2', 'COMP_BREAKDOWN_2_LABEL',\n",
      "       'COMP_BREAKDOWN_3', 'COMP_BREAKDOWN_3_LABEL', 'TIME_PERIOD',\n",
      "       'OBS_VALUE', 'DATABASE_ID', 'DATABASE_ID_LABEL', 'UNIT_MULT',\n",
      "       'UNIT_MULT_LABEL', 'UNIT_TYPE', 'UNIT_TYPE_LABEL', 'OBS_STATUS',\n",
      "       'OBS_STATUS_LABEL', 'OBS_CONF', 'OBS_CONF_LABEL'],\n",
      "      dtype='object')\n"
     ]
    }
   ],
   "source": [
    "print(df.columns)"
   ]
  },
  {
   "cell_type": "markdown",
   "id": "750c8d46",
   "metadata": {},
   "source": [
    "#### Inorder for us to understand our dataset we must see what indicators have been labelled.We now see all the releavant governance metrics that divulge their estimates also."
   ]
  },
  {
   "cell_type": "code",
   "execution_count": 72,
   "id": "9ad4b41c",
   "metadata": {},
   "outputs": [
    {
     "name": "stdout",
     "output_type": "stream",
     "text": [
      "['Control of Corruption: Estimate'\n",
      " 'Control of Corruption: Number of Sources'\n",
      " 'Control of Corruption: Percentile Rank'\n",
      " 'Control of Corruption: Percentile Rank, Lower Bound of 90% Confidence Interval'\n",
      " 'Control of Corruption: Percentile Rank, Upper Bound of 90% Confidence Interval'\n",
      " 'Control of Corruption: Standard Error'\n",
      " 'Government Effectiveness: Estimate'\n",
      " 'Government Effectiveness: Number of Sources'\n",
      " 'Government Effectiveness: Percentile Rank'\n",
      " 'Government Effectiveness: Percentile Rank, Lower Bound of 90% Confidence Interval'\n",
      " 'Government Effectiveness: Percentile Rank, Upper Bound of 90% Confidence Interval'\n",
      " 'Government Effectiveness: Standard Error'\n",
      " 'Political Stability and Absence of Violence/Terrorism: Estimate'\n",
      " 'Political Stability and Absence of Violence/Terrorism: Number of Sources'\n",
      " 'Political Stability and Absence of Violence/Terrorism: Percentile Rank'\n",
      " 'Political Stability and Absence of Violence/Terrorism: Percentile Rank, Lower Bound of 90% Confidence Interval'\n",
      " 'Political Stability and Absence of Violence/Terrorism: Percentile Rank, Upper Bound of 90% Confidence Interval'\n",
      " 'Political Stability and Absence of Violence/Terrorism: Standard Error'\n",
      " 'Rule of Law: Estimate' 'Rule of Law: Number of Sources'\n",
      " 'Rule of Law: Percentile Rank'\n",
      " 'Rule of Law: Percentile Rank, Lower Bound of 90% Confidence Interval'\n",
      " 'Rule of Law: Percentile Rank, Upper Bound of 90% Confidence Interval'\n",
      " 'Rule of Law: Standard Error' 'Regulatory Quality: Estimate'\n",
      " 'Regulatory Quality: Number of Sources'\n",
      " 'Regulatory Quality: Percentile Rank'\n",
      " 'Regulatory Quality: Percentile Rank, Lower Bound of 90% Confidence Interval'\n",
      " 'Regulatory Quality: Percentile Rank, Upper Bound of 90% Confidence Interval'\n",
      " 'Regulatory Quality: Standard Error' 'Voice and Accountability: Estimate'\n",
      " 'Voice and Accountability: Number of Sources'\n",
      " 'Voice and Accountability: Percentile Rank'\n",
      " 'Voice and Accountability: Percentile Rank, Lower Bound of 90% Confidence Interval'\n",
      " 'Voice and Accountability: Percentile Rank, Upper Bound of 90% Confidence Interval'\n",
      " 'Voice and Accountability: Standard Error']\n"
     ]
    }
   ],
   "source": [
    "# Check unique indicator labels to find relevant governance metrics\n",
    "\n",
    "#Our key indicators therein \n",
    "\n",
    "#Control of Corruption →  listed as WB_WGI.\n",
    "#Political Stability → listed as (Political Stability Estimate).\n",
    "# Rule of Law → listed as (Rule of Law Estimate).\n",
    "\n",
    "print(df[\"INDICATOR_LABEL\"].unique())"
   ]
  },
  {
   "cell_type": "markdown",
   "id": "65718f22",
   "metadata": {},
   "source": [
    "# DATA UNDERSTANDING \n",
    "#### Handling of missing values "
   ]
  },
  {
   "cell_type": "code",
   "execution_count": 73,
   "id": "12133611",
   "metadata": {},
   "outputs": [
    {
     "name": "stdout",
     "output_type": "stream",
     "text": [
      "OBS_VALUE                 6756\n",
      "OBS_CONF_LABEL               0\n",
      "UNIT_MEASURE_LABEL           0\n",
      "URBANISATION_LABEL           0\n",
      "URBANISATION                 0\n",
      "AGE_LABEL                    0\n",
      "AGE                          0\n",
      "SEX_LABEL                    0\n",
      "SEX                          0\n",
      "INDICATOR_LABEL              0\n",
      "INDICATOR                    0\n",
      "REF_AREA_LABEL               0\n",
      "REF_AREA                     0\n",
      "FREQ_LABEL                   0\n",
      "FREQ                         0\n",
      "ACTION                       0\n",
      "STRUCTURE_ID                 0\n",
      "UNIT_MEASURE                 0\n",
      "COMP_BREAKDOWN_1             0\n",
      "OBS_CONF                     0\n",
      "COMP_BREAKDOWN_1_LABEL       0\n",
      "COMP_BREAKDOWN_2             0\n",
      "COMP_BREAKDOWN_2_LABEL       0\n",
      "COMP_BREAKDOWN_3             0\n",
      "COMP_BREAKDOWN_3_LABEL       0\n",
      "TIME_PERIOD                  0\n",
      "DATABASE_ID                  0\n",
      "DATABASE_ID_LABEL            0\n",
      "UNIT_MULT                    0\n",
      "UNIT_MULT_LABEL              0\n",
      "UNIT_TYPE                    0\n",
      "UNIT_TYPE_LABEL              0\n",
      "OBS_STATUS                   0\n",
      "OBS_STATUS_LABEL             0\n",
      "STRUCTURE                    0\n",
      "dtype: int64\n"
     ]
    }
   ],
   "source": [
    "# Check for any missing values per column\n",
    "print(df.isnull().sum().sort_values(ascending=False))"
   ]
  },
  {
   "cell_type": "markdown",
   "id": "690cfc0e",
   "metadata": {},
   "source": [
    "#### The OBS_VALUE column contains the actual numerical estimates for governance indicators like:\n",
    "- Control of Corruption\n",
    "- Political Stability\n",
    "- Government Effectiveness \n",
    "Each row represents a governance score (an observation) for a specific country and time period.\n",
    "The observation value holds the actual scores assigned to each country for a given year based on governance performance. it contains missing 6756 values that need to be correctly handled."
   ]
  },
  {
   "cell_type": "markdown",
   "id": "25fc7ba6",
   "metadata": {},
   "source": [
    "#### Performing a Data Filtering\n",
    "This filtering is to ensure that filtered version of the dataset contains economically relevant government metrics on aspects of economic factors on the **indicator label**\n"
   ]
  },
  {
   "cell_type": "code",
   "execution_count": 74,
   "id": "7078a165",
   "metadata": {},
   "outputs": [
    {
     "name": "stdout",
     "output_type": "stream",
     "text": [
      "STRUCTURE                    0\n",
      "STRUCTURE_ID                 0\n",
      "ACTION                       0\n",
      "FREQ                         0\n",
      "FREQ_LABEL                   0\n",
      "REF_AREA                     0\n",
      "REF_AREA_LABEL               0\n",
      "INDICATOR                    0\n",
      "INDICATOR_LABEL              0\n",
      "SEX                          0\n",
      "SEX_LABEL                    0\n",
      "AGE                          0\n",
      "AGE_LABEL                    0\n",
      "URBANISATION                 0\n",
      "URBANISATION_LABEL           0\n",
      "UNIT_MEASURE                 0\n",
      "UNIT_MEASURE_LABEL           0\n",
      "COMP_BREAKDOWN_1             0\n",
      "COMP_BREAKDOWN_1_LABEL       0\n",
      "COMP_BREAKDOWN_2             0\n",
      "COMP_BREAKDOWN_2_LABEL       0\n",
      "COMP_BREAKDOWN_3             0\n",
      "COMP_BREAKDOWN_3_LABEL       0\n",
      "TIME_PERIOD                  0\n",
      "OBS_VALUE                 6756\n",
      "DATABASE_ID                  0\n",
      "DATABASE_ID_LABEL            0\n",
      "UNIT_MULT                    0\n",
      "UNIT_MULT_LABEL              0\n",
      "UNIT_TYPE                    0\n",
      "UNIT_TYPE_LABEL              0\n",
      "OBS_STATUS                   0\n",
      "OBS_STATUS_LABEL             0\n",
      "OBS_CONF                     0\n",
      "OBS_CONF_LABEL               0\n",
      "dtype: int64\n"
     ]
    },
    {
     "data": {
      "image/png": "[encoded data removed]",
      "text/plain": [
       "<Figure size 432x288 with 1 Axes>"
      ]
     },
     "metadata": {
      "needs_background": "light"
     },
     "output_type": "display_data"
    }
   ],
   "source": [
    "import seaborn as sns\n",
    "import matplotlib.pyplot as plt\n",
    "\n",
    "print(df.isnull().sum())  # Count missing values\n",
    "sns.heatmap(df.isnull(), cbar=False, cmap=\"coolwarm\")  \n",
    "plt.title(\"Missing Data Heatmap\")\n",
    "plt.show()"
   ]
  },
  {
   "cell_type": "markdown",
   "id": "9b634e80",
   "metadata": {},
   "source": [
    "# DATA PREPROCESSING "
   ]
  },
  {
   "cell_type": "code",
   "execution_count": 75,
   "id": "ac8e52c8",
   "metadata": {},
   "outputs": [],
   "source": [
    "# Define relevant governance indicators\n",
    "governance_indicators = [\n",
    "    \"Control of Corruption: Estimate\",\n",
    "    \"Political Stability and Absence of Violence/Terrorism: Estimate\",\n",
    "    \"Government Effectiveness: Estimate\"\n",
    "]\n",
    "\n",
    "# Filter dataset for relevant indicators\n",
    "df_filtered = df[df[\"INDICATOR_LABEL\"].isin(governance_indicators)].copy()"
   ]
  },
  {
   "cell_type": "markdown",
   "id": "79d16677",
   "metadata": {},
   "source": [
    "#### Transform our dataframe to form a **Stability_metrics** .That quantifies economic stabity **filtering** from year by year and Since our data is spaced out and we require columns from governance indicators to answer our objectives.\n",
    "Converting **categorical governance indicators into structured machine learning inputs**"
   ]
  },
  {
   "cell_type": "code",
   "execution_count": 76,
   "id": "8fc1c58c",
   "metadata": {},
   "outputs": [
    {
     "data": {
      "text/html": [
       "<div>\n",
       "<style scoped>\n",
       "    .dataframe tbody tr th:only-of-type {\n",
       "        vertical-align: middle;\n",
       "    }\n",
       "\n",
       "    .dataframe tbody tr th {\n",
       "        vertical-align: top;\n",
       "    }\n",
       "\n",
       "    .dataframe thead th {\n",
       "        text-align: right;\n",
       "    }\n",
       "</style>\n",
       "<table border=\"1\" class=\"dataframe\">\n",
       "  <thead>\n",
       "    <tr style=\"text-align: right;\">\n",
       "      <th>INDICATOR_LABEL</th>\n",
       "      <th>REF_AREA_LABEL</th>\n",
       "      <th>TIME_PERIOD</th>\n",
       "      <th>Control of Corruption: Estimate</th>\n",
       "      <th>Government Effectiveness: Estimate</th>\n",
       "      <th>Political Stability and Absence of Violence/Terrorism: Estimate</th>\n",
       "    </tr>\n",
       "  </thead>\n",
       "  <tbody>\n",
       "    <tr>\n",
       "      <th>0</th>\n",
       "      <td>Afghanistan</td>\n",
       "      <td>1996</td>\n",
       "      <td>-1.291705</td>\n",
       "      <td>-2.175167</td>\n",
       "      <td>-2.417310</td>\n",
       "    </tr>\n",
       "    <tr>\n",
       "      <th>1</th>\n",
       "      <td>Afghanistan</td>\n",
       "      <td>1998</td>\n",
       "      <td>-1.176012</td>\n",
       "      <td>-2.102292</td>\n",
       "      <td>-2.427355</td>\n",
       "    </tr>\n",
       "    <tr>\n",
       "      <th>2</th>\n",
       "      <td>Afghanistan</td>\n",
       "      <td>2000</td>\n",
       "      <td>-1.271724</td>\n",
       "      <td>-2.173946</td>\n",
       "      <td>-2.438969</td>\n",
       "    </tr>\n",
       "    <tr>\n",
       "      <th>3</th>\n",
       "      <td>Afghanistan</td>\n",
       "      <td>2002</td>\n",
       "      <td>-1.251137</td>\n",
       "      <td>-1.587687</td>\n",
       "      <td>-2.035034</td>\n",
       "    </tr>\n",
       "    <tr>\n",
       "      <th>4</th>\n",
       "      <td>Afghanistan</td>\n",
       "      <td>2003</td>\n",
       "      <td>-1.344180</td>\n",
       "      <td>-1.175768</td>\n",
       "      <td>-2.198372</td>\n",
       "    </tr>\n",
       "  </tbody>\n",
       "</table>\n",
       "</div>"
      ],
      "text/plain": [
       "INDICATOR_LABEL REF_AREA_LABEL  TIME_PERIOD  Control of Corruption: Estimate  \\\n",
       "0                  Afghanistan         1996                        -1.291705   \n",
       "1                  Afghanistan         1998                        -1.176012   \n",
       "2                  Afghanistan         2000                        -1.271724   \n",
       "3                  Afghanistan         2002                        -1.251137   \n",
       "4                  Afghanistan         2003                        -1.344180   \n",
       "\n",
       "INDICATOR_LABEL  Government Effectiveness: Estimate  \\\n",
       "0                                         -2.175167   \n",
       "1                                         -2.102292   \n",
       "2                                         -2.173946   \n",
       "3                                         -1.587687   \n",
       "4                                         -1.175768   \n",
       "\n",
       "INDICATOR_LABEL  Political Stability and Absence of Violence/Terrorism: Estimate  \n",
       "0                                                        -2.417310                \n",
       "1                                                        -2.427355                \n",
       "2                                                        -2.438969                \n",
       "3                                                        -2.035034                \n",
       "4                                                        -2.198372                "
      ]
     },
     "execution_count": 76,
     "metadata": {},
     "output_type": "execute_result"
    }
   ],
   "source": [
    "# Pivot dataset to transform indicators into columns\n",
    "df_stability_metrics = df_filtered.pivot(index=[\"REF_AREA_LABEL\", \"TIME_PERIOD\"], columns=\"INDICATOR_LABEL\", values=\"OBS_VALUE\")\n",
    "\n",
    "# Reset index to maintain clean structure\n",
    "df_stability_metrics.reset_index(inplace=True)\n",
    "\n",
    "(df_stability_metrics.head())  # Verify transformation worked\n"
   ]
  },
  {
   "cell_type": "markdown",
   "id": "bb0e2539",
   "metadata": {},
   "source": [
    "#### Lets rename the **REF_AREA_LABEL** to **Country** column ,and **TIME_PERIOD** to **Year** so we can view and observe our outcomes in a better clearer perspective  "
   ]
  },
  {
   "cell_type": "code",
   "execution_count": 77,
   "id": "5106939f",
   "metadata": {},
   "outputs": [],
   "source": [
    "df_stability_metrics.rename(columns={\"REF_AREA_LABEL\": \"Country\"}, inplace=True)\n",
    "df_stability_metrics.rename(columns= {\"TIME_PERIOD\": 'Year'},inplace=True)"
   ]
  },
  {
   "cell_type": "code",
   "execution_count": 78,
   "id": "3a35bc41",
   "metadata": {},
   "outputs": [
    {
     "name": "stdout",
     "output_type": "stream",
     "text": [
      "INDICATOR_LABEL      Country  Year  Control of Corruption: Estimate  \\\n",
      "0                Afghanistan  1996                        -1.291705   \n",
      "1                Afghanistan  1998                        -1.176012   \n",
      "2                Afghanistan  2000                        -1.271724   \n",
      "3                Afghanistan  2002                        -1.251137   \n",
      "4                Afghanistan  2003                        -1.344180   \n",
      "\n",
      "INDICATOR_LABEL  Government Effectiveness: Estimate  \\\n",
      "0                                         -2.175167   \n",
      "1                                         -2.102292   \n",
      "2                                         -2.173946   \n",
      "3                                         -1.587687   \n",
      "4                                         -1.175768   \n",
      "\n",
      "INDICATOR_LABEL  Political Stability and Absence of Violence/Terrorism: Estimate  \n",
      "0                                                        -2.417310                \n",
      "1                                                        -2.427355                \n",
      "2                                                        -2.438969                \n",
      "3                                                        -2.035034                \n",
      "4                                                        -2.198372                \n"
     ]
    }
   ],
   "source": [
    "print(df_stability_metrics.head())  # Check column names\n"
   ]
  },
  {
   "cell_type": "markdown",
   "id": "8419f9f4",
   "metadata": {},
   "source": [
    "#### Reviewing misssing values in the dataset\n"
   ]
  },
  {
   "cell_type": "markdown",
   "id": "3a0d65c5",
   "metadata": {},
   "source": [
    "Since Control of Corruption: Estimate, Government Effectiveness: Estimate, and Political Stability and Absence of Violence/Terrorism: Estimate are now the core numerical features, for **Governance Indicators**\n",
    " we handle any missing data by imputing the mean and therefore achieve zero missing values.Thus ensuring all missing values are filled using their respective mean values.\n"
   ]
  },
  {
   "cell_type": "code",
   "execution_count": 79,
   "id": "3fb4a2e1",
   "metadata": {},
   "outputs": [
    {
     "name": "stdout",
     "output_type": "stream",
     "text": [
      "INDICATOR_LABEL\n",
      "Country                                                            0\n",
      "Year                                                               0\n",
      "Control of Corruption: Estimate                                    0\n",
      "Government Effectiveness: Estimate                                 0\n",
      "Political Stability and Absence of Violence/Terrorism: Estimate    0\n",
      "dtype: int64\n"
     ]
    }
   ],
   "source": [
    "# Define governance indicators to fill missing values\n",
    "num_columns = [\n",
    "    \"Control of Corruption: Estimate\",\n",
    "    \"Government Effectiveness: Estimate\",\n",
    "    \"Political Stability and Absence of Violence/Terrorism: Estimate\"\n",
    "]\n",
    "\n",
    "# Apply mean imputation\n",
    "df_stability_metrics[num_columns] = df_stability_metrics[num_columns].fillna(df_stability_metrics[num_columns].mean())\n",
    "\n",
    "# Verify that missing values have been handled\n",
    "print(df_stability_metrics.isnull().sum())"
   ]
  },
  {
   "cell_type": "code",
   "execution_count": 80,
   "id": "557b4390",
   "metadata": {},
   "outputs": [],
   "source": [
    "governance_indicators = [\n",
    "    \"Control of Corruption: Estimate\",\n",
    "    \"Political Stability and Absence of Violence/Terrorism: Estimate\",\n",
    "    \"Government Effectiveness: Estimate\"\n",
    "]\n",
    "df_filtered = df[df[\"INDICATOR_LABEL\"].isin(governance_indicators)].copy()"
   ]
  },
  {
   "cell_type": "markdown",
   "id": "78de2c7e",
   "metadata": {},
   "source": [
    "# Feature Scaling for machine learning models\n",
    "#### Normalization of governance indicators for better learning perfomance"
   ]
  },
  {
   "cell_type": "code",
   "execution_count": 81,
   "id": "a317b28d",
   "metadata": {},
   "outputs": [],
   "source": [
    "from sklearn.preprocessing import StandardScaler\n",
    "\n",
    "scaler=StandardScaler()\n",
    "df_stability_metrics[num_columns]=scaler.fit_transform(df_stability_metrics[num_columns])"
   ]
  },
  {
   "cell_type": "markdown",
   "id": "8371373c",
   "metadata": {},
   "source": [
    "## Encode Categorical Features (Countries)\n",
    "#### Convert the country label to machine readable format by **One hot encoding**"
   ]
  },
  {
   "cell_type": "code",
   "execution_count": 82,
   "id": "46e7845d",
   "metadata": {},
   "outputs": [],
   "source": [
    "from sklearn.preprocessing import OneHotEncoder\n",
    "#converts categorical country names into one-hot encoded format \n",
    "encoder = OneHotEncoder(handle_unknown=\"ignore\", sparse=False)\n",
    "\n",
    "encoded_countries = encoder.fit_transform(df_stability_metrics.iloc[:, 4:])  # Exclude numeric columns\n",
    "#convert encoded data into dataframe  \n",
    "country_df = pd.DataFrame(encoded_countries, columns=encoder.get_feature_names())\n",
    "#integrating transformed categorical data back into the main dataset\n",
    "df_stability_metrics = pd.concat([df_stability_metrics, country_df], axis=1)\n",
    "#Removing the original 'country' column to prevent duplicate categorical data\n",
    "#keeping only numeric features for machine learning models\n",
    "df_stability_metrics.drop(columns=[\"Country\"], inplace=True)"
   ]
  },
  {
   "cell_type": "code",
   "execution_count": 83,
   "id": "a6e06d81",
   "metadata": {},
   "outputs": [
    {
     "name": "stdout",
     "output_type": "stream",
     "text": [
      "Index(['Year', 'Control of Corruption: Estimate',\n",
      "       'Government Effectiveness: Estimate',\n",
      "       'Political Stability and Absence of Violence/Terrorism: Estimate',\n",
      "       'x0_-3.3756844520836076', 'x0_-3.3426365450131956',\n",
      "       'x0_-3.2896311876781645', 'x0_-3.2405742240420214',\n",
      "       'x0_-3.1902588663026177', 'x0_-3.142241656867616',\n",
      "       ...\n",
      "       'x0_1.9231016763363031', 'x0_1.9467732112047207',\n",
      "       'x0_1.9609838331089824', 'x0_1.9640840254542986',\n",
      "       'x0_1.9685358982610943', 'x0_1.971036774341397',\n",
      "       'x0_1.9734784961815195', 'x0_1.9767420611203512',\n",
      "       'x0_1.9839517118924392', 'x0_2.001404520611782'],\n",
      "      dtype='object', length=4983)\n"
     ]
    }
   ],
   "source": [
    "print(df_stability_metrics.columns)  # Lists all columns"
   ]
  },
  {
   "cell_type": "code",
   "execution_count": 84,
   "id": "70986dd7",
   "metadata": {},
   "outputs": [
    {
     "name": "stdout",
     "output_type": "stream",
     "text": [
      "Index(['Year', 'Control of Corruption: Estimate',\n",
      "       'Government Effectiveness: Estimate',\n",
      "       'Political Stability and Absence of Violence/Terrorism: Estimate',\n",
      "       'x0_-3.3756844520836076', 'x0_-3.3426365450131956',\n",
      "       'x0_-3.2896311876781645', 'x0_-3.2405742240420214',\n",
      "       'x0_-3.1902588663026177', 'x0_-3.142241656867616'],\n",
      "      dtype='object')\n"
     ]
    }
   ],
   "source": [
    "\n",
    "print(df_stability_metrics.columns[:10])  # Display first 10 columns\n"
   ]
  },
  {
   "cell_type": "markdown",
   "id": "ef883941",
   "metadata": {},
   "source": [
    "# Train-Test Split\n",
    "#### Encoding on our dataset is complete so we proceed.Lets define Features **(x)** and Target **(Y)**\n",
    "#### This ensures governance indicators that highlight High corruption estimates by the contry deatures are included in Machine learning models."
   ]
  },
  {
   "cell_type": "code",
   "execution_count": 88,
   "id": "69ab3b4f",
   "metadata": {},
   "outputs": [],
   "source": [
    "X = df_stability_metrics.drop(columns=[\"Year\", \"Control of Corruption: Estimate\"])  # Features\n",
    "y = df_stability_metrics[\"Control of Corruption: Estimate\"]  # Target variable"
   ]
  },
  {
   "cell_type": "markdown",
   "id": "0fad9cfa",
   "metadata": {},
   "source": [
    "## Model evaluation Splitting the data for Training  and Testing \n",
    "### 80% training, 20% testing ensures effective model evaluation\n"
   ]
  },
  {
   "cell_type": "code",
   "execution_count": 89,
   "id": "84b5e571",
   "metadata": {},
   "outputs": [],
   "source": [
    "from sklearn.model_selection import train_test_split  \n",
    "\n",
    "X_train, X_test, y_train, y_test = train_test_split(X, y, test_size=0.2, random_state=42)  "
   ]
  },
  {
   "cell_type": "markdown",
   "id": "9d36f3d8",
   "metadata": {},
   "source": [
    "## Check Class Distribution \n",
    "#### Lets now check for any imbalance in the dataset before moving to Train the model .Assess to see how corruption estimates values across various countries are distributed\n",
    "#### To verify the datasets balance ,we check  `Control of Corruption:Estimate` values .Ensuring our model is not biased toward certain corruption levels."
   ]
  },
  {
   "cell_type": "code",
   "execution_count": 90,
   "id": "76819c08",
   "metadata": {},
   "outputs": [
    {
     "data": {
      "image/png": "[encoded data removed]",
      "text/plain": [
       "<Figure size 432x288 with 1 Axes>"
      ]
     },
     "metadata": {
      "needs_background": "light"
     },
     "output_type": "display_data"
    }
   ],
   "source": [
    "import matplotlib.pyplot as plt\n",
    "\n",
    "plt.hist(df_stability_metrics[\"Control of Corruption: Estimate\"], bins=30, edgecolor=\"black\")\n",
    "plt.xlabel(\"Control of Corruption Estimate\")\n",
    "plt.ylabel(\"Frequency\")\n",
    "plt.title(\"Distribution of Corruption Control Estimates\")\n",
    "plt.show()\n"
   ]
  },
  {
   "cell_type": "markdown",
   "id": "8d60875d",
   "metadata": {},
   "source": [
    "## Check Summary Statistics"
   ]
  },
  {
   "cell_type": "code",
   "execution_count": 91,
   "id": "4cd5e5e7",
   "metadata": {},
   "outputs": [
    {
     "name": "stdout",
     "output_type": "stream",
     "text": [
      "count    5.350000e+03\n",
      "mean     5.578093e-17\n",
      "std      1.000093e+00\n",
      "min     -2.013701e+00\n",
      "25%     -7.691044e-01\n",
      "50%     -1.586510e-01\n",
      "75%      7.085840e-01\n",
      "max      2.514237e+00\n",
      "Name: Control of Corruption: Estimate, dtype: float64\n"
     ]
    }
   ],
   "source": [
    "print(df_stability_metrics[\"Control of Corruption: Estimate\"].describe())"
   ]
  },
  {
   "cell_type": "markdown",
   "id": "e2cfa5cf",
   "metadata": {},
   "source": [
    "## Check for Imbalance \n",
    "#### `Control for Corruption :Estimate` is a **Classification problem** in order for us to balance it and have the frequency of values is evenly distributed in the `class counts`"
   ]
  },
  {
   "cell_type": "code",
   "execution_count": 92,
   "id": "9cf68e72",
   "metadata": {},
   "outputs": [
    {
     "data": {
      "image/png": "[encoded data removed]",
      "text/plain": [
       "<Figure size 432x288 with 1 Axes>"
      ]
     },
     "metadata": {
      "needs_background": "light"
     },
     "output_type": "display_data"
    }
   ],
   "source": [
    "import seaborn as sns\n",
    "\n",
    "sns.countplot(x=df_stability_metrics[\"Control of Corruption: Estimate\"] > 0)  # True = Positive Control, False = Negative Control\n",
    "plt.title(\"Class Distribution of Corruption Control\")\n",
    "plt.show()"
   ]
  },
  {
   "cell_type": "markdown",
   "id": "f4483188",
   "metadata": {},
   "source": [
    "# OBJECTIVE 1: **Classifying Economic Stability Based on `Governance Effectiveness` & `Corruption Control`**\n",
    "#### This analysis aims to predict a country's economic stability by examining the impact of governance effectiveness on corruption regulation. Through binary classification, nations will be categorized as either “Stable” or “At Risk”, based on governance metrics.\n"
   ]
  },
  {
   "cell_type": "code",
   "execution_count": 112,
   "id": "6b355e23",
   "metadata": {},
   "outputs": [
    {
     "name": "stdout",
     "output_type": "stream",
     "text": [
      "Index(['STRUCTURE', 'STRUCTURE_ID', 'ACTION', 'FREQ', 'FREQ_LABEL', 'REF_AREA',\n",
      "       'REF_AREA_LABEL', 'INDICATOR', 'INDICATOR_LABEL', 'SEX', 'SEX_LABEL',\n",
      "       'AGE', 'AGE_LABEL', 'URBANISATION', 'URBANISATION_LABEL',\n",
      "       'UNIT_MEASURE', 'UNIT_MEASURE_LABEL', 'COMP_BREAKDOWN_1',\n",
      "       'COMP_BREAKDOWN_1_LABEL', 'COMP_BREAKDOWN_2', 'COMP_BREAKDOWN_2_LABEL',\n",
      "       'COMP_BREAKDOWN_3', 'COMP_BREAKDOWN_3_LABEL', 'TIME_PERIOD',\n",
      "       'OBS_VALUE', 'DATABASE_ID', 'DATABASE_ID_LABEL', 'UNIT_MULT',\n",
      "       'UNIT_MULT_LABEL', 'UNIT_TYPE', 'UNIT_TYPE_LABEL', 'OBS_STATUS',\n",
      "       'OBS_STATUS_LABEL', 'OBS_CONF', 'OBS_CONF_LABEL'],\n",
      "      dtype='object')\n"
     ]
    }
   ],
   "source": [
    "print(df_filtered.columns)  # Lists all available columns"
   ]
  },
  {
   "cell_type": "markdown",
   "id": "89edda06",
   "metadata": {},
   "source": [
    "#### Implementing analysis on each `Country`column  has to be restored, Inorder to analyze how government effectiveness impacts corruption control across different countries on a National level.\n"
   ]
  },
  {
   "cell_type": "code",
   "execution_count": 113,
   "id": "023f57df",
   "metadata": {},
   "outputs": [
    {
     "name": "stdout",
     "output_type": "stream",
     "text": [
      "Index(['Year', 'Control of Corruption: Estimate',\n",
      "       'Government Effectiveness: Estimate',\n",
      "       'Political Stability and Absence of Violence/Terrorism: Estimate',\n",
      "       'x0_-3.3756844520836076', 'x0_-3.3426365450131956',\n",
      "       'x0_-3.2896311876781645', 'x0_-3.2405742240420214',\n",
      "       'x0_-3.1902588663026177', 'x0_-3.142241656867616',\n",
      "       ...\n",
      "       'x0_1.9467732112047207', 'x0_1.9609838331089824',\n",
      "       'x0_1.9640840254542986', 'x0_1.9685358982610943',\n",
      "       'x0_1.971036774341397', 'x0_1.9734784961815195',\n",
      "       'x0_1.9767420611203512', 'x0_1.9839517118924392',\n",
      "       'x0_2.001404520611782', 'Country'],\n",
      "      dtype='object', length=4984)\n"
     ]
    }
   ],
   "source": [
    "df_stability_metrics[\"Country\"] = df_filtered[\"REF_AREA_LABEL\"]\n",
    "print(df_stability_metrics.columns)"
   ]
  },
  {
   "cell_type": "markdown",
   "id": "4db0cf83",
   "metadata": {},
   "source": [
    "#### Structure the dataset for `binary classification` by labeling countries as **\"Stable\"** or **\"At Risk\"** based on governance effectiveness\n"
   ]
  },
  {
   "cell_type": "code",
   "execution_count": 128,
   "id": "fee98fe8",
   "metadata": {},
   "outputs": [],
   "source": [
    "df_stability_metrics[\"Economic_Stability\"] = df_stability_metrics.apply(\n",
    "    lambda row: \"Stable\" if row[\"Control of Corruption: Estimate\"] >= 1 and row[\"Government Effectiveness: Estimate\"] >= 1 else \"At Risk\",\n",
    "    axis=1\n",
    ")"
   ]
  },
  {
   "cell_type": "markdown",
   "id": "a2635a68",
   "metadata": {},
   "source": [
    "Train a Classification Model.sing a `logistic regression` to predict economic stability: This Outputs classification performance, including precision, recall, and F1-score\n"
   ]
  },
  {
   "cell_type": "code",
   "execution_count": 130,
   "id": "09bea9f3",
   "metadata": {},
   "outputs": [
    {
     "name": "stdout",
     "output_type": "stream",
     "text": [
      "Model Accuracy: 0.982\n",
      "              precision    recall  f1-score   support\n",
      "\n",
      "           0       0.99      0.99      0.99       913\n",
      "           1       0.94      0.94      0.94       157\n",
      "\n",
      "    accuracy                           0.98      1070\n",
      "   macro avg       0.97      0.96      0.96      1070\n",
      "weighted avg       0.98      0.98      0.98      1070\n",
      "\n"
     ]
    }
   ],
   "source": [
    "from sklearn.model_selection import train_test_split\n",
    "from sklearn.linear_model import LogisticRegression\n",
    "from sklearn.metrics import accuracy_score, classification_report\n",
    "\n",
    "# Define features & labels\n",
    "X = df_stability_metrics[[\"Government Effectiveness: Estimate\", \"Control of Corruption: Estimate\"]]\n",
    "y = df_stability_metrics[\"Economic_Stability\"].map({\"Stable\": 1, \"At Risk\": 0})  # Binary labels\n",
    "\n",
    "# Split dataset\n",
    "X_train, X_test, y_train, y_test = train_test_split(X, y, test_size=0.2, random_state=42)\n",
    "\n",
    "# Train model\n",
    "model = LogisticRegression()\n",
    "model.fit(X_train, y_train)\n",
    "\n",
    "# Evaluate accuracy\n",
    "y_pred = model.predict(X_test)\n",
    "print(f\"Model Accuracy: {accuracy_score(y_test, y_pred):.3f}\")\n",
    "print(classification_report(y_test, y_pred))"
   ]
  },
  {
   "cell_type": "markdown",
   "id": "7937b40e",
   "metadata": {},
   "source": [
    "### The `F1-score` for both classes is high (0.94 & 0.99), confirming the model is balanced, not favoring one category over the other.\n",
    "### `Precision` (0 = At Risk, 1 = Stable)\n",
    "\n",
    "### the `classification model is highly accurate and effective`, with **minimal misclassification.** 98.2% Model Accuracy – the model effectively distinguishes \"Stable\" vs. \"At Risk\" countries.\n",
    "\n",
    "\n",
    "\n",
    "\n",
    "### Stable economies are identified correctly most of the time.\n",
    "### At-risk nations are detected with near-perfect precision.\n",
    "### The model generalizes well across different governance patterns results confirm that strong governance effectiveness significantly contributes to economic stability. The model has successfully categorized nations based on their governance quality.\n",
    "\n"
   ]
  },
  {
   "cell_type": "markdown",
   "id": "0e842edd",
   "metadata": {},
   "source": [
    "## Visualizing how countries fall into `\"Stable\"` vs. `\"At Risk\"` categories.\n"
   ]
  },
  {
   "cell_type": "code",
   "execution_count": 131,
   "id": "a91949e7",
   "metadata": {},
   "outputs": [
    {
     "data": {
      "image/png": "[encoded data removed]",
      "text/plain": [
       "<Figure size 432x288 with 1 Axes>"
      ]
     },
     "metadata": {
      "needs_background": "light"
     },
     "output_type": "display_data"
    }
   ],
   "source": [
    "import seaborn as sns\n",
    "import matplotlib.pyplot as plt\n",
    "\n",
    "sns.histplot(y_pred, bins=2, kde=False)\n",
    "plt.xticks([0, 1], labels=[\"At Risk\", \"Stable\"])\n",
    "plt.title(\"Predicted Economic Stability\")\n",
    "plt.show()"
   ]
  },
  {
   "cell_type": "markdown",
   "id": "b2bb6c8e",
   "metadata": {},
   "source": [
    "## Random Forest"
   ]
  },
  {
   "cell_type": "markdown",
   "id": "44caf1e4",
   "metadata": {},
   "source": [
    " ### Random Forest to determine which governance metrics `feature selection`contribute most to predicting economic stability:\n"
   ]
  },
  {
   "cell_type": "code",
   "execution_count": 132,
   "id": "95518c73",
   "metadata": {},
   "outputs": [
    {
     "data": {
      "image/png": "[encoded data removed]",
      "text/plain": [
       "<Figure size 720x360 with 1 Axes>"
      ]
     },
     "metadata": {
      "needs_background": "light"
     },
     "output_type": "display_data"
    }
   ],
   "source": [
    "from sklearn.ensemble import RandomForestClassifier\n",
    "import pandas as pd\n",
    "\n",
    "# Define model for feature importance analysis\n",
    "model_rf = RandomForestClassifier()\n",
    "model_rf.fit(X_train, y_train)\n",
    "\n",
    "# Extract feature importances\n",
    "feature_importance = pd.Series(model_rf.feature_importances_, index=X_train.columns)\n",
    "feature_importance.sort_values(ascending=False).plot(kind=\"bar\", figsize=(10, 5), color=\"skyblue\")\n",
    "plt.title(\"Feature Importance for Economic Stability Prediction\")\n",
    "plt.xlabel(\"Governance Indicators\")\n",
    "plt.ylabel(\"Importance Score\")\n",
    "plt.show()"
   ]
  },
  {
   "cell_type": "markdown",
   "id": "bd576130",
   "metadata": {},
   "source": [
    "## **Objective 2: Predicting Corruption Risk Levels** Classifying countries into `\"High Corruption Risk\"` vs. `\"Low Corruption Risk\"`, leveraging governance metrics.****Decision Tree classification** to predict whether a country is at \"High Corruption Risk\" or \"Low Corruption Risk\":\n",
    "\n"
   ]
  },
  {
   "cell_type": "code",
   "execution_count": 139,
   "id": "6e449c65",
   "metadata": {},
   "outputs": [],
   "source": [
    "df_stability_metrics[\"Corruption_Risk\"] = df_stability_metrics[\"Control of Corruption: Estimate\"].apply(\n",
    "    lambda x: \"Low Risk\" if x >= 1 else \"High Risk\"\n",
    ")"
   ]
  },
  {
   "cell_type": "markdown",
   "id": "0dc8851b",
   "metadata": {},
   "source": [
    "### `Decision Tree classifier`"
   ]
  },
  {
   "cell_type": "code",
   "execution_count": null,
   "id": "f2ea0b09",
   "metadata": {},
   "outputs": [],
   "source": []
  },
  {
   "cell_type": "code",
   "execution_count": 140,
   "id": "416aa8f7",
   "metadata": {},
   "outputs": [
    {
     "name": "stdout",
     "output_type": "stream",
     "text": [
      "Model Accuracy: 1.000\n",
      "              precision    recall  f1-score   support\n",
      "\n",
      "           0       1.00      1.00      1.00       874\n",
      "           1       1.00      1.00      1.00       196\n",
      "\n",
      "    accuracy                           1.00      1070\n",
      "   macro avg       1.00      1.00      1.00      1070\n",
      "weighted avg       1.00      1.00      1.00      1070\n",
      "\n"
     ]
    }
   ],
   "source": [
    "#Train a Decision Tree Classifier\n",
    "from sklearn.tree import DecisionTreeClassifier\n",
    "from sklearn.model_selection import train_test_split\n",
    "from sklearn.metrics import accuracy_score, classification_report\n",
    "\n",
    "# Define predictor variables\n",
    "X = df_stability_metrics[[\"Government Effectiveness: Estimate\", \"Control of Corruption: Estimate\"]]\n",
    "y = df_stability_metrics[\"Corruption_Risk\"].map({\"Low Risk\": 1, \"High Risk\": 0})  # Binary classification labels\n",
    "\n",
    "# Train-test split\n",
    "X_train, X_test, y_train, y_test = train_test_split(X, y, test_size=0.2, random_state=42)\n",
    "\n",
    "# Initialize and train model\n",
    "model = DecisionTreeClassifier(max_depth=5, random_state=42)  # Limiting depth improves generalization\n",
    "model.fit(X_train, y_train)\n",
    "\n",
    "# Evaluate accuracy\n",
    "y_pred = model.predict(X_test)\n",
    "print(f\"Model Accuracy: {accuracy_score(y_test, y_pred):.3f}\")\n",
    "print(classification_report(y_test, y_pred))\n",
    "\n"
   ]
  },
  {
   "cell_type": "markdown",
   "id": "1fd7eeb1",
   "metadata": {},
   "source": [
    "### Visualize the Decision Tree"
   ]
  },
  {
   "cell_type": "code",
   "execution_count": 142,
   "id": "459b906d",
   "metadata": {},
   "outputs": [
    {
     "data": {
      "image/png": "[encoded data removed]",
      "text/plain": [
       "<Figure size 1080x720 with 1 Axes>"
      ]
     },
     "metadata": {
      "needs_background": "light"
     },
     "output_type": "display_data"
    }
   ],
   "source": [
    "from sklearn.tree import plot_tree\n",
    "import matplotlib.pyplot as plt\n",
    "\n",
    "plt.figure(figsize=(15, 10))\n",
    "plot_tree(model, feature_names=X.columns, class_names=[\"High Risk\", \"Low Risk\"], filled=True)\n",
    "plt.title(\"Decision Tree for Corruption Risk Classification\")\n",
    "plt.show()\n",
    "\n"
   ]
  },
  {
   "cell_type": "code",
   "execution_count": null,
   "id": "61c4d285",
   "metadata": {},
   "outputs": [],
   "source": []
  }
 ],
 "metadata": {
  "kernelspec": {
   "display_name": "learn-env",
   "language": "python",
   "name": "python3"
  },
  "language_info": {
   "codemirror_mode": {
    "name": "ipython",
    "version": 3
   },
   "file_extension": ".py",
   "mimetype": "text/x-python",
   "name": "python",
   "nbconvert_exporter": "python",
   "pygments_lexer": "ipython3",
   "version": "3.8.5"
  }
 },
 "nbformat": 4,
 "nbformat_minor": 5
}
