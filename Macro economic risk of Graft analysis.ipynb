{
 "cells": [
  {
   "cell_type": "markdown",
   "id": "1bc87330",
   "metadata": {},
   "source": [
    "# Phase 3 Project - The Economic Impact of Corruption Using WGI\n",
    "\n",
    "## 📌 Project Overview\n",
    "This project explores the relationship between **corruption and economic stability** using the **Worldwide Governance Indicators (WGI)** dataset. \n",
    "We aim to:\n",
    "- Analyze the impact of governance metrics (e.g., corruption control, rule of law) on **GDP growth and investment trends**.\n",
    "- Build **classification models** to predict economic risk based on governance scores."
   ]
  },
  {
   "cell_type": "markdown",
   "id": "e983a84e",
   "metadata": {},
   "source": [
    "## 📊 Business Problem\n",
    "\n",
    "Corruption is a major driver of economic instability, affecting **foreign direct investment (FDI), growth rates, and financial resilience**. \n",
    "This project provides insights for **governments, investors, financial institutions, and anti-corruption watchdogs** to assess economic risks.\n",
    "\n",
    "### 🎯 Key Stakeholders:\n",
    "- **Governments & Policy Makers** → Formulate **anti-corruption reforms** for economic resilience.\n",
    "- **Investors & Multinational Corporations** → Assess risk levels before entering new markets.\n",
    "- **International Financial Institutions** (World Bank, IMF) → Use governance scores to determine loan eligibility.\n",
    "- **Civil Society Organizations** → Advocate for transparency & accountability in governance."
   ]
  },
  {
   "cell_type": "markdown",
   "id": "d4d7a420",
   "metadata": {},
   "source": [
    "## 🔬 ML Objectives  \n",
    "\n",
    "### **Analysis Objectives:**\n",
    "1. **Assess the Impact of Corruption on Economic Growth**\n",
    "   - Examine how fluctuations in **Control of Corruption** affect **GDP growth**.\n",
    "   - Compare trends in **developing vs. advanced economies**.\n",
    "\n",
    "2. **Analyze the Relationship Between Regulatory Quality & Investment Flows**\n",
    "   - Investigate whether **strong governance frameworks** attract higher FDI.\n",
    "   - Explore how economic mismanagement affects investor confidence.\n",
    "\n",
    "### **Modeling Objectives:**\n",
    "1. **Predict a Country’s Economic Performance Based on Governance Indicators**\n",
    "   - Build a **regression model** to forecast GDP growth using WGI metrics.\n",
    "   - Use **Ridge Regression** for better predictive accuracy.\n",
    "\n",
    "2. **Classify Countries Into High or Low Investment-Attractiveness Groups**\n",
    "   - Develop a **classification model** to determine investment risk based on corruption trends.\n",
    "   - Apply **Logistic Regression or Decision Trees** for clear stakeholder interpretation."
   ]
  },
  {
   "cell_type": "markdown",
   "id": "04c655cf",
   "metadata": {},
   "source": [
    "# Loading and Inspecting the Worldwide Governanace Indicators dataset"
   ]
  },
  {
   "cell_type": "code",
   "execution_count": 12,
   "id": "616b3a02",
   "metadata": {},
   "outputs": [
    {
     "name": "stdout",
     "output_type": "stream",
     "text": [
      "       STRUCTURE                STRUCTURE_ID ACTION FREQ FREQ_LABEL REF_AREA  \\\n",
      "0  datastructure  WB.DATA360:DS_DATA360(1.2)      I    A     Annual      ABW   \n",
      "1  datastructure  WB.DATA360:DS_DATA360(1.2)      I    A     Annual      AFG   \n",
      "2  datastructure  WB.DATA360:DS_DATA360(1.2)      I    A     Annual      AGO   \n",
      "3  datastructure  WB.DATA360:DS_DATA360(1.2)      I    A     Annual      AIA   \n",
      "4  datastructure  WB.DATA360:DS_DATA360(1.2)      I    A     Annual      ALB   \n",
      "\n",
      "  REF_AREA_LABEL      INDICATOR                  INDICATOR_LABEL SEX  ...  \\\n",
      "0          Aruba  WB_WGI_CC_EST  Control of Corruption: Estimate  _T  ...   \n",
      "1    Afghanistan  WB_WGI_CC_EST  Control of Corruption: Estimate  _T  ...   \n",
      "2         Angola  WB_WGI_CC_EST  Control of Corruption: Estimate  _T  ...   \n",
      "3       Anguilla  WB_WGI_CC_EST  Control of Corruption: Estimate  _T  ...   \n",
      "4        Albania  WB_WGI_CC_EST  Control of Corruption: Estimate  _T  ...   \n",
      "\n",
      "  DATABASE_ID                      DATABASE_ID_LABEL UNIT_MULT  \\\n",
      "0      WB_WGI  Worldwide Governance Indicators (WGI)         0   \n",
      "1      WB_WGI  Worldwide Governance Indicators (WGI)         0   \n",
      "2      WB_WGI  Worldwide Governance Indicators (WGI)         0   \n",
      "3      WB_WGI  Worldwide Governance Indicators (WGI)         0   \n",
      "4      WB_WGI  Worldwide Governance Indicators (WGI)         0   \n",
      "\n",
      "  UNIT_MULT_LABEL UNIT_TYPE       UNIT_TYPE_LABEL OBS_STATUS OBS_STATUS_LABEL  \\\n",
      "0           Units    NUMBER  Number (real number)          O    Missing value   \n",
      "1           Units    NUMBER  Number (real number)          A     Normal value   \n",
      "2           Units    NUMBER  Number (real number)          A     Normal value   \n",
      "3           Units    NUMBER  Number (real number)          O    Missing value   \n",
      "4           Units    NUMBER  Number (real number)          A     Normal value   \n",
      "\n",
      "  OBS_CONF OBS_CONF_LABEL  \n",
      "0       PU         Public  \n",
      "1       PU         Public  \n",
      "2       PU         Public  \n",
      "3       PU         Public  \n",
      "4       PU         Public  \n",
      "\n",
      "[5 rows x 35 columns]\n",
      "<class 'pandas.core.frame.DataFrame'>\n",
      "RangeIndex: 192600 entries, 0 to 192599\n",
      "Data columns (total 35 columns):\n",
      " #   Column                  Non-Null Count   Dtype  \n",
      "---  ------                  --------------   -----  \n",
      " 0   STRUCTURE               192600 non-null  object \n",
      " 1   STRUCTURE_ID            192600 non-null  object \n",
      " 2   ACTION                  192600 non-null  object \n",
      " 3   FREQ                    192600 non-null  object \n",
      " 4   FREQ_LABEL              192600 non-null  object \n",
      " 5   REF_AREA                192600 non-null  object \n",
      " 6   REF_AREA_LABEL          192600 non-null  object \n",
      " 7   INDICATOR               192600 non-null  object \n",
      " 8   INDICATOR_LABEL         192600 non-null  object \n",
      " 9   SEX                     192600 non-null  object \n",
      " 10  SEX_LABEL               192600 non-null  object \n",
      " 11  AGE                     192600 non-null  object \n",
      " 12  AGE_LABEL               192600 non-null  object \n",
      " 13  URBANISATION            192600 non-null  object \n",
      " 14  URBANISATION_LABEL      192600 non-null  object \n",
      " 15  UNIT_MEASURE            192600 non-null  object \n",
      " 16  UNIT_MEASURE_LABEL      192600 non-null  object \n",
      " 17  COMP_BREAKDOWN_1        192600 non-null  object \n",
      " 18  COMP_BREAKDOWN_1_LABEL  192600 non-null  object \n",
      " 19  COMP_BREAKDOWN_2        192600 non-null  object \n",
      " 20  COMP_BREAKDOWN_2_LABEL  192600 non-null  object \n",
      " 21  COMP_BREAKDOWN_3        192600 non-null  object \n",
      " 22  COMP_BREAKDOWN_3_LABEL  192600 non-null  object \n",
      " 23  TIME_PERIOD             192600 non-null  int64  \n",
      " 24  OBS_VALUE               185844 non-null  float64\n",
      " 25  DATABASE_ID             192600 non-null  object \n",
      " 26  DATABASE_ID_LABEL       192600 non-null  object \n",
      " 27  UNIT_MULT               192600 non-null  int64  \n",
      " 28  UNIT_MULT_LABEL         192600 non-null  object \n",
      " 29  UNIT_TYPE               192600 non-null  object \n",
      " 30  UNIT_TYPE_LABEL         192600 non-null  object \n",
      " 31  OBS_STATUS              192600 non-null  object \n",
      " 32  OBS_STATUS_LABEL        192600 non-null  object \n",
      " 33  OBS_CONF                192600 non-null  object \n",
      " 34  OBS_CONF_LABEL          192600 non-null  object \n",
      "dtypes: float64(1), int64(2), object(32)\n",
      "memory usage: 51.4+ MB\n",
      "None\n"
     ]
    }
   ],
   "source": [
    "import pandas as pd\n",
    "#Load WGI Dataset csv to a dataframe\n",
    "df=pd.read_csv('WB_WGI.csv')\n",
    "print (df.head())\n",
    "print (df.info())"
   ]
  },
  {
   "cell_type": "markdown",
   "id": "6ca4eaec",
   "metadata": {},
   "source": [
    "#### view the columns in the world bank dataset of WGI "
   ]
  },
  {
   "cell_type": "code",
   "execution_count": 13,
   "id": "5d757c4e",
   "metadata": {},
   "outputs": [
    {
     "name": "stdout",
     "output_type": "stream",
     "text": [
      "Index(['STRUCTURE', 'STRUCTURE_ID', 'ACTION', 'FREQ', 'FREQ_LABEL', 'REF_AREA',\n",
      "       'REF_AREA_LABEL', 'INDICATOR', 'INDICATOR_LABEL', 'SEX', 'SEX_LABEL',\n",
      "       'AGE', 'AGE_LABEL', 'URBANISATION', 'URBANISATION_LABEL',\n",
      "       'UNIT_MEASURE', 'UNIT_MEASURE_LABEL', 'COMP_BREAKDOWN_1',\n",
      "       'COMP_BREAKDOWN_1_LABEL', 'COMP_BREAKDOWN_2', 'COMP_BREAKDOWN_2_LABEL',\n",
      "       'COMP_BREAKDOWN_3', 'COMP_BREAKDOWN_3_LABEL', 'TIME_PERIOD',\n",
      "       'OBS_VALUE', 'DATABASE_ID', 'DATABASE_ID_LABEL', 'UNIT_MULT',\n",
      "       'UNIT_MULT_LABEL', 'UNIT_TYPE', 'UNIT_TYPE_LABEL', 'OBS_STATUS',\n",
      "       'OBS_STATUS_LABEL', 'OBS_CONF', 'OBS_CONF_LABEL'],\n",
      "      dtype='object')\n"
     ]
    }
   ],
   "source": [
    "print(df.columns)"
   ]
  },
  {
   "cell_type": "markdown",
   "id": "750c8d46",
   "metadata": {},
   "source": [
    "#### Inorder for us to understand our dataset we must see what indicators have been labelled.We now see all the releavant governance metrics that divulge their estimates also."
   ]
  },
  {
   "cell_type": "code",
   "execution_count": 14,
   "id": "9ad4b41c",
   "metadata": {},
   "outputs": [
    {
     "name": "stdout",
     "output_type": "stream",
     "text": [
      "['Control of Corruption: Estimate'\n",
      " 'Control of Corruption: Number of Sources'\n",
      " 'Control of Corruption: Percentile Rank'\n",
      " 'Control of Corruption: Percentile Rank, Lower Bound of 90% Confidence Interval'\n",
      " 'Control of Corruption: Percentile Rank, Upper Bound of 90% Confidence Interval'\n",
      " 'Control of Corruption: Standard Error'\n",
      " 'Government Effectiveness: Estimate'\n",
      " 'Government Effectiveness: Number of Sources'\n",
      " 'Government Effectiveness: Percentile Rank'\n",
      " 'Government Effectiveness: Percentile Rank, Lower Bound of 90% Confidence Interval'\n",
      " 'Government Effectiveness: Percentile Rank, Upper Bound of 90% Confidence Interval'\n",
      " 'Government Effectiveness: Standard Error'\n",
      " 'Political Stability and Absence of Violence/Terrorism: Estimate'\n",
      " 'Political Stability and Absence of Violence/Terrorism: Number of Sources'\n",
      " 'Political Stability and Absence of Violence/Terrorism: Percentile Rank'\n",
      " 'Political Stability and Absence of Violence/Terrorism: Percentile Rank, Lower Bound of 90% Confidence Interval'\n",
      " 'Political Stability and Absence of Violence/Terrorism: Percentile Rank, Upper Bound of 90% Confidence Interval'\n",
      " 'Political Stability and Absence of Violence/Terrorism: Standard Error'\n",
      " 'Rule of Law: Estimate' 'Rule of Law: Number of Sources'\n",
      " 'Rule of Law: Percentile Rank'\n",
      " 'Rule of Law: Percentile Rank, Lower Bound of 90% Confidence Interval'\n",
      " 'Rule of Law: Percentile Rank, Upper Bound of 90% Confidence Interval'\n",
      " 'Rule of Law: Standard Error' 'Regulatory Quality: Estimate'\n",
      " 'Regulatory Quality: Number of Sources'\n",
      " 'Regulatory Quality: Percentile Rank'\n",
      " 'Regulatory Quality: Percentile Rank, Lower Bound of 90% Confidence Interval'\n",
      " 'Regulatory Quality: Percentile Rank, Upper Bound of 90% Confidence Interval'\n",
      " 'Regulatory Quality: Standard Error' 'Voice and Accountability: Estimate'\n",
      " 'Voice and Accountability: Number of Sources'\n",
      " 'Voice and Accountability: Percentile Rank'\n",
      " 'Voice and Accountability: Percentile Rank, Lower Bound of 90% Confidence Interval'\n",
      " 'Voice and Accountability: Percentile Rank, Upper Bound of 90% Confidence Interval'\n",
      " 'Voice and Accountability: Standard Error']\n"
     ]
    }
   ],
   "source": [
    "# Check unique indicator labels to find relevant governance metrics\n",
    "\n",
    "#Our key indicators therein \n",
    "\n",
    "#Control of Corruption →  listed as WB_WGI.\n",
    "#Political Stability → listed as (Political Stability Estimate).\n",
    "# Rule of Law → listed as (Rule of Law Estimate).\n",
    "\n",
    "print(df[\"INDICATOR_LABEL\"].unique())"
   ]
  },
  {
   "cell_type": "markdown",
   "id": "65718f22",
   "metadata": {},
   "source": [
    "#### Handling of missing values "
   ]
  },
  {
   "cell_type": "code",
   "execution_count": 15,
   "id": "12133611",
   "metadata": {},
   "outputs": [
    {
     "name": "stdout",
     "output_type": "stream",
     "text": [
      "OBS_VALUE                 6756\n",
      "OBS_CONF_LABEL               0\n",
      "UNIT_MEASURE_LABEL           0\n",
      "URBANISATION_LABEL           0\n",
      "URBANISATION                 0\n",
      "AGE_LABEL                    0\n",
      "AGE                          0\n",
      "SEX_LABEL                    0\n",
      "SEX                          0\n",
      "INDICATOR_LABEL              0\n",
      "INDICATOR                    0\n",
      "REF_AREA_LABEL               0\n",
      "REF_AREA                     0\n",
      "FREQ_LABEL                   0\n",
      "FREQ                         0\n",
      "ACTION                       0\n",
      "STRUCTURE_ID                 0\n",
      "UNIT_MEASURE                 0\n",
      "COMP_BREAKDOWN_1             0\n",
      "OBS_CONF                     0\n",
      "COMP_BREAKDOWN_1_LABEL       0\n",
      "COMP_BREAKDOWN_2             0\n",
      "COMP_BREAKDOWN_2_LABEL       0\n",
      "COMP_BREAKDOWN_3             0\n",
      "COMP_BREAKDOWN_3_LABEL       0\n",
      "TIME_PERIOD                  0\n",
      "DATABASE_ID                  0\n",
      "DATABASE_ID_LABEL            0\n",
      "UNIT_MULT                    0\n",
      "UNIT_MULT_LABEL              0\n",
      "UNIT_TYPE                    0\n",
      "UNIT_TYPE_LABEL              0\n",
      "OBS_STATUS                   0\n",
      "OBS_STATUS_LABEL             0\n",
      "STRUCTURE                    0\n",
      "dtype: int64\n"
     ]
    }
   ],
   "source": [
    "# Check for any missing values per column\n",
    "print(df.isnull().sum().sort_values(ascending=False))"
   ]
  },
  {
   "cell_type": "markdown",
   "id": "25fc7ba6",
   "metadata": {},
   "source": [
    "#### Performing a feature selection\n"
   ]
  },
  {
   "cell_type": "code",
   "execution_count": 16,
   "id": "ac8e52c8",
   "metadata": {},
   "outputs": [],
   "source": [
    "# Define relevant governance indicators\n",
    "governance_indicators = [\n",
    "    \"Control of Corruption: Estimate\",\n",
    "    \"Political Stability and Absence of Violence/Terrorism: Estimate\",\n",
    "    \"Government Effectiveness: Estimate\"\n",
    "]\n",
    "\n",
    "# Filter dataset for relevant indicators\n",
    "df_filtered = df[df[\"INDICATOR_LABEL\"].isin(governance_indicators)].copy()"
   ]
  },
  {
   "cell_type": "code",
   "execution_count": null,
   "id": "8fc1c58c",
   "metadata": {},
   "outputs": [],
   "source": []
  }
 ],
 "metadata": {
  "kernelspec": {
   "display_name": "learn-env",
   "language": "python",
   "name": "python3"
  },
  "language_info": {
   "codemirror_mode": {
    "name": "ipython",
    "version": 3
   },
   "file_extension": ".py",
   "mimetype": "text/x-python",
   "name": "python",
   "nbconvert_exporter": "python",
   "pygments_lexer": "ipython3",
   "version": "3.8.5"
  }
 },
 "nbformat": 4,
 "nbformat_minor": 5
}
